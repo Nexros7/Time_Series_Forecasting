{
  "nbformat": 4,
  "nbformat_minor": 0,
  "metadata": {
    "colab": {
      "provenance": [],
      "authorship_tag": "ABX9TyNFmnQvsCAT7awUGg59EdK6",
      "include_colab_link": true
    },
    "kernelspec": {
      "name": "python3",
      "display_name": "Python 3"
    },
    "language_info": {
      "name": "python"
    }
  },
  "cells": [
    {
      "cell_type": "markdown",
      "metadata": {
        "id": "view-in-github",
        "colab_type": "text"
      },
      "source": [
        "<a href=\"https://colab.research.google.com/github/Nexros7/Time_Series_Forecasting/blob/main/Untitled0.ipynb\" target=\"_parent\"><img src=\"https://colab.research.google.com/assets/colab-badge.svg\" alt=\"Open In Colab\"/></a>"
      ]
    },
    {
      "cell_type": "code",
      "execution_count": null,
      "metadata": {
        "colab": {
          "base_uri": "https://localhost:8080/"
        },
        "id": "3UACuidIbC8H",
        "outputId": "4541137a-6506-47a9-9245-13a7776932df"
      },
      "outputs": [
        {
          "output_type": "stream",
          "name": "stdout",
          "text": [
            "Enter your word: AppleeA\n",
            "['a', 'e', 'e', 'a']\n"
          ]
        }
      ],
      "source": [
        "text = input(\"Enter your word: \")\n",
        "vowels = ['a','e','i','o','u']\n",
        "x= []\n",
        "for i in text.lower():\n",
        "  if i in vowels:\n",
        "    x.append(i)\n",
        "print(x)\n"
      ]
    },
    {
      "cell_type": "code",
      "source": [
        "list = [1,1,3,4,4,4,6,7,8,8,8]\n",
        "\n",
        "if i in list"
      ],
      "metadata": {
        "colab": {
          "base_uri": "https://localhost:8080/"
        },
        "id": "ZuyI0OW2bF0A",
        "outputId": "fd55bd56-352d-4403-8e6f-82e1d6b4a293"
      },
      "execution_count": null,
      "outputs": [
        {
          "output_type": "stream",
          "name": "stdout",
          "text": [
            "Enter a number: 0\n",
            "no is even\n"
          ]
        }
      ]
    },
    {
      "cell_type": "code",
      "source": [
        "list = [1,1,3,4,4,4,6,7,8,8,8]\n",
        "d = {}\n",
        "for i in list:\n",
        "  if i in d:\n",
        "    d[i] += 1\n",
        "\n",
        "  else:\n",
        "    d[i] = 1\n",
        "\n",
        "print(d)"
      ],
      "metadata": {
        "colab": {
          "base_uri": "https://localhost:8080/"
        },
        "id": "ubxPqILJitHn",
        "outputId": "76ddc049-d0e9-429f-adbf-9fe77d19c259"
      },
      "execution_count": null,
      "outputs": [
        {
          "output_type": "stream",
          "name": "stdout",
          "text": [
            "{1: 2, 3: 1, 4: 3, 6: 1, 7: 1, 8: 3}\n"
          ]
        }
      ]
    },
    {
      "cell_type": "code",
      "source": [
        "str = \"betty bought some butter but the butter was bitter ,so betty bought some more butter\"\n",
        "\n",
        "x = str.split(' ')\n",
        "d = set(x)\n",
        "print(f\"no of unique words = {len(d)}\")\n"
      ],
      "metadata": {
        "colab": {
          "base_uri": "https://localhost:8080/"
        },
        "id": "Qli-bxeOkqx2",
        "outputId": "e7610994-51ef-4c87-f8b8-db6a359759e9"
      },
      "execution_count": null,
      "outputs": [
        {
          "output_type": "stream",
          "name": "stdout",
          "text": [
            "no of unique words = 10\n"
          ]
        }
      ]
    },
    {
      "cell_type": "code",
      "source": [
        "while True:\n",
        "  z = input(\"do you want to add data?(yes/no): \")\n",
        "  if z.lower() == 'yes':\n",
        "    x = input(\"Enter your name : \")\n",
        "    y = input (\"Enter your age : \")\n",
        "    z = f'My name is {x} and i am {y} years old'\n",
        "    print(z.format(x,y))\n",
        "\n",
        "  elif z.lower() == 'no':\n",
        "    break\n",
        "\n",
        "  else:\n",
        "    print('type yes or no')\n",
        "\n",
        "\n"
      ],
      "metadata": {
        "colab": {
          "base_uri": "https://localhost:8080/"
        },
        "id": "Kbd3n6uZv3DI",
        "outputId": "61ece38a-c8f0-450f-fc16-8a14267ba289"
      },
      "execution_count": null,
      "outputs": [
        {
          "name": "stdout",
          "output_type": "stream",
          "text": [
            "do you want to add data?(yes/no): yes\n",
            "Enter your name : nah\n",
            "Enter your age : 12\n",
            "My name is nah and i am 12 years old\n",
            "do you want to add data?(yes/no): no\n"
          ]
        }
      ]
    },
    {
      "cell_type": "code",
      "source": [
        "import math\n",
        "\n",
        "a = int(input(\"Enter first number : \"))\n",
        "b = int(input(\"Enter second number : \"))\n",
        "c = int(input(\"Enter third number : \"))\n",
        "\n",
        "z = (a+b+c)/3\n",
        "\n",
        "print(\"Here is the average : \", z)\n",
        "\n"
      ],
      "metadata": {
        "colab": {
          "base_uri": "https://localhost:8080/"
        },
        "id": "uAHzaXBC8k9W",
        "outputId": "e1459521-7cbe-452d-842f-5dab13ea6039"
      },
      "execution_count": null,
      "outputs": [
        {
          "output_type": "stream",
          "name": "stdout",
          "text": [
            "Enter first number : 1\n",
            "Enter second number : 2\n",
            "Enter third number : 3\n",
            "Here is the average :  2.0\n"
          ]
        }
      ]
    },
    {
      "cell_type": "code",
      "source": [
        "length = int(input(\"Enter the length of cuboid : \"))\n",
        "breadth = int(input(\"Enter the breadth of cuboid : \"))\n",
        "height = int(input(\"Enter the height of cuboid : \"))\n",
        "\n",
        "volume = length * breadth * height\n",
        "\n",
        "print(\"volume of cuboid : \", volume)"
      ],
      "metadata": {
        "colab": {
          "base_uri": "https://localhost:8080/"
        },
        "id": "1ES2bRBCa1vv",
        "outputId": "d42704a5-35df-4efe-ec87-51746a5088b0"
      },
      "execution_count": null,
      "outputs": [
        {
          "output_type": "stream",
          "name": "stdout",
          "text": [
            "Enter the length of cuboid : 22\n",
            "Enter the breadth of cuboid : 22\n",
            "Enter the height of cuboid : 22\n",
            "volume of cuboid :  10648\n"
          ]
        }
      ]
    },
    {
      "cell_type": "code",
      "source": [
        "x = [10,20,30,10,40,20,40,50,60,30]\n",
        "\n",
        "dict = {}\n",
        "for i in x:\n",
        "  if i in dict:\n",
        "    dict[i] += 1\n",
        "\n",
        "  else:\n",
        "    dict[i] = 1\n",
        "\n",
        "print(dict)\n"
      ],
      "metadata": {
        "colab": {
          "base_uri": "https://localhost:8080/"
        },
        "id": "ujAqsawpk6GM",
        "outputId": "c4a0a63a-74e9-46c4-8f23-b65f80cfe52c"
      },
      "execution_count": null,
      "outputs": [
        {
          "output_type": "stream",
          "name": "stdout",
          "text": [
            "{10: 2, 20: 2, 30: 2, 40: 2, 50: 1, 60: 1}\n"
          ]
        }
      ]
    },
    {
      "cell_type": "code",
      "source": [
        "n = int(input('enter any natural number'))\n",
        "z = (n *(n + 1))/2\n",
        "print(z)"
      ],
      "metadata": {
        "colab": {
          "base_uri": "https://localhost:8080/"
        },
        "id": "uUCaTdjV6oML",
        "outputId": "b0072cc2-139f-4e28-d366-20a8408cc42c"
      },
      "execution_count": null,
      "outputs": [
        {
          "output_type": "stream",
          "name": "stdout",
          "text": [
            "enter any number4\n",
            "10.0\n"
          ]
        }
      ]
    },
    {
      "cell_type": "code",
      "source": [
        "i= 1\n",
        "while i < 6:\n",
        "  print(i * '*')\n",
        "  i += 1"
      ],
      "metadata": {
        "colab": {
          "base_uri": "https://localhost:8080/"
        },
        "id": "JXYEqOSE6ouM",
        "outputId": "d8347923-e9ea-460e-9d88-9cd109fb46d7"
      },
      "execution_count": null,
      "outputs": [
        {
          "output_type": "stream",
          "name": "stdout",
          "text": [
            "*\n",
            "**\n",
            "***\n",
            "****\n",
            "*****\n"
          ]
        }
      ]
    },
    {
      "cell_type": "code",
      "source": [
        "x = int(input(\"enter a num\"))\n",
        "num = 1\n",
        "for i in range(1,x+1):\n",
        "  num *= i\n",
        "print(num)\n",
        "\n"
      ],
      "metadata": {
        "colab": {
          "base_uri": "https://localhost:8080/"
        },
        "id": "3YU36dG11g70",
        "outputId": "27415e14-0be9-4c31-f847-3340402a0bfc"
      },
      "execution_count": null,
      "outputs": [
        {
          "output_type": "stream",
          "name": "stdout",
          "text": [
            "enter a num5\n",
            "120\n"
          ]
        }
      ]
    },
    {
      "cell_type": "code",
      "source": [],
      "metadata": {
        "id": "ZhXHl4eJIt1j"
      },
      "execution_count": null,
      "outputs": []
    },
    {
      "cell_type": "code",
      "source": [
        "x = 5\n",
        "for i in range(0, x):\n",
        "\tfor y in range(0, i+1):\n",
        "\t\tprint(\"*\", end=\" \")\n",
        "\tprint()\n"
      ],
      "metadata": {
        "colab": {
          "base_uri": "https://localhost:8080/"
        },
        "id": "icuXhuPs6pb0",
        "outputId": "b53abdf8-bade-4eec-88f0-d9c334c6eca1"
      },
      "execution_count": null,
      "outputs": [
        {
          "output_type": "stream",
          "name": "stdout",
          "text": [
            "* \n",
            "* * \n",
            "* * * \n",
            "* * * * \n",
            "* * * * * \n"
          ]
        }
      ]
    },
    {
      "cell_type": "code",
      "source": [
        "import pandas as pd\n",
        "\n",
        "df = pd.read_csv(\"monthly-beer-production-in-austr.csv\")\n",
        "df.describe\n"
      ],
      "metadata": {
        "colab": {
          "base_uri": "https://localhost:8080/"
        },
        "id": "bcU0nDhR6zwK",
        "outputId": "0cb0ac76-cd7f-4c48-8c28-7c05f86386ba"
      },
      "execution_count": 4,
      "outputs": [
        {
          "output_type": "execute_result",
          "data": {
            "text/plain": [
              "<bound method NDFrame.describe of        Month  Monthly beer production\n",
              "0    1956-01                     93.2\n",
              "1    1956-02                     96.0\n",
              "2    1956-03                     95.2\n",
              "3    1956-04                     77.1\n",
              "4    1956-05                     70.9\n",
              "..       ...                      ...\n",
              "471  1995-04                    127.0\n",
              "472  1995-05                    151.0\n",
              "473  1995-06                    130.0\n",
              "474  1995-07                    119.0\n",
              "475  1995-08                    153.0\n",
              "\n",
              "[476 rows x 2 columns]>"
            ]
          },
          "metadata": {},
          "execution_count": 4
        }
      ]
    },
    {
      "cell_type": "markdown",
      "source": [
        "df.describe\n"
      ],
      "metadata": {
        "id": "V56q0k25PbAv"
      }
    }
  ]
}